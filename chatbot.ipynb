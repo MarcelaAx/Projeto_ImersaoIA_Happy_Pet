{
  "nbformat": 4,
  "nbformat_minor": 0,
  "metadata": {
    "colab": {
      "provenance": [],
      "authorship_tag": "ABX9TyMvShQrnaqrNXCbruq4A4b1",
      "include_colab_link": true
    },
    "kernelspec": {
      "name": "python3",
      "display_name": "Python 3"
    },
    "language_info": {
      "name": "python"
    }
  },
  "cells": [
    {
      "cell_type": "markdown",
      "metadata": {
        "id": "view-in-github",
        "colab_type": "text"
      },
      "source": [
        "<a href=\"https://colab.research.google.com/github/MarcelaAx/Projeto_ImersaoIA_Happy_Pet/blob/main/chatbot.ipynb\" target=\"_parent\"><img src=\"https://colab.research.google.com/assets/colab-badge.svg\" alt=\"Open In Colab\"/></a>"
      ]
    },
    {
      "cell_type": "code",
      "execution_count": 1,
      "metadata": {
        "id": "l9IIp-SazyAr"
      },
      "outputs": [],
      "source": [
        "!pip install -q -U google-generativeai"
      ]
    },
    {
      "cell_type": "code",
      "source": [
        "import google.generativeai as genai\n",
        "from google.colab import userdata\n",
        "api_key = userdata.get(\"SECRET_KEY\")\n",
        "genai.configure(api_key=api_key)"
      ],
      "metadata": {
        "id": "77CEpWLbz67K"
      },
      "execution_count": 2,
      "outputs": []
    },
    {
      "cell_type": "code",
      "source": [
        "for m in genai.list_models():\n",
        "  if 'generateContent' in m.supported_generation_methods:\n",
        "    print(m.name)"
      ],
      "metadata": {
        "colab": {
          "base_uri": "https://localhost:8080/",
          "height": 139
        },
        "id": "FM2vIIbe0Mnq",
        "outputId": "4b9bad58-4cc6-4f2e-bf7f-c133cd3804ff"
      },
      "execution_count": 3,
      "outputs": [
        {
          "output_type": "stream",
          "name": "stdout",
          "text": [
            "models/gemini-1.0-pro\n",
            "models/gemini-1.0-pro-001\n",
            "models/gemini-1.0-pro-latest\n",
            "models/gemini-1.0-pro-vision-latest\n",
            "models/gemini-1.5-pro-latest\n",
            "models/gemini-pro\n",
            "models/gemini-pro-vision\n"
          ]
        }
      ]
    },
    {
      "cell_type": "code",
      "source": [
        "generation_config = {\n",
        "  \"candidate_count\": 1,\n",
        "  \"temperature\": 0.5,\n",
        "}"
      ],
      "metadata": {
        "id": "xd1cJG800dJj"
      },
      "execution_count": 4,
      "outputs": []
    },
    {
      "cell_type": "code",
      "source": [
        "safety_settings={\n",
        "    'HATE': 'BLOCK_NONE',\n",
        "    'HARASSMENT': 'BLOCK_NONE',\n",
        "    'SEXUAL' : 'BLOCK_NONE',\n",
        "    'DANGEROUS' : 'BLOCK_NONE'\n",
        "    }"
      ],
      "metadata": {
        "id": "OsWfb2-Q0flS"
      },
      "execution_count": 5,
      "outputs": []
    },
    {
      "cell_type": "code",
      "source": [
        "model = genai.GenerativeModel(model_name='gemini-1.0-pro',\n",
        "                                  generation_config=generation_config,\n",
        "                                  safety_settings=safety_settings,)"
      ],
      "metadata": {
        "id": "xfYHXAiq0iOs"
      },
      "execution_count": 6,
      "outputs": []
    },
    {
      "cell_type": "code",
      "source": [
        "import random\n",
        "\n",
        "class Pet:\n",
        "  def __init__(self, nome, especie, idade, raca, personalidade):\n",
        "    self.nome = nome\n",
        "    self.especie = especie\n",
        "    self.idade = idade\n",
        "    self.raca = raca\n",
        "    self.personalidade = personalidade\n",
        "\n",
        "  def __str__(self):\n",
        "    return f\"{self.nome}, um(a) {self.especie} de {self.idade} anos, raça {self.raca}, com personalidade {self.personalidade}.\"\n",
        "\n",
        "pets_disponiveis = [\n",
        "  Pet(\"Margarida\", \"Cachorro\", 2, \"SRD\", \"Brincalhona, super carinhosa e esperta\"),\n",
        "  Pet(\"Joca\", \"Cachorro\", 4, \"SRD\", \"Alegre, dócil e companheiro\"),\n",
        "  Pet(\"Sol\", \"Gato\", 1, \"SRD\", \"Esperta e independente\"),\n",
        "  Pet(\"Loba\", \"Gato\", 5, \"SRD\", \"Calma e cheia de dengo\"),\n",
        "  Pet(\"Bob\", \"Cachorro\", 3, \"Pastor Alemão\", \"Cheio de energia e muito amigo\"),\n",
        "  Pet(\"Lili\", \"Calopsita\", 3, \"Pérola\", \"Amigável e muito esperta\")\n",
        "\n",
        "]\n",
        "\n",
        "def boas_vindas():\n",
        "  print(\"Olá! Bem-vindo(a) ao Happy Pet!\")\n",
        "  print(\"Eu sou o Botty e estou aqui para te ajudar a encontrar o amigo perfeito para você.\")\n",
        "\n",
        "def perguntar_preferencia():\n",
        "  especie = input(\"Você deseja adotar um cachorro, um gato ou uma calopsita? \").lower()\n",
        "  while especie not in (\"cachorro\", \"gato\", \"calopsita\"):\n",
        "    especie = input(\"Por favor, digite 'cachorro' ou 'gato' ou 'calopsita': \").lower()\n",
        "  return especie\n",
        "\n",
        "def filtrar_pets(especie):\n",
        "  return [pet for pet in pets_disponiveis if pet.especie.lower() == especie]\n",
        "\n",
        "def apresentar_pets(pets):\n",
        "  if pets:\n",
        "    print(\"\\nAqui estão os pets disponíveis que correspondem à sua preferência:\")\n",
        "    for i, pet in enumerate(pets):\n",
        "      print(f\"{i+1}. {pet}\")\n",
        "  else:\n",
        "    print(\"\\nDesculpe, no momento não temos nenhum pet disponível com essa preferência. Quem sabe da próxima seu amigo esteja por aqui.\")\n",
        "\n",
        "def escolher_pet(pets):\n",
        "  while True:\n",
        "    try:\n",
        "      escolha = int(input(\"\\nDigite o número do pet que você gostaria de saber mais: \"))\n",
        "      if 1 <= escolha <= len(pets):\n",
        "        return pets[escolha - 1]\n",
        "      else:\n",
        "        print(\"Número inválido. Por favor, escolha um número da lista.\")\n",
        "    except ValueError:\n",
        "      print(\"Entrada inválida. Por favor, digite um número.\")\n",
        "\n",
        "def finalizar():\n",
        "  print(\"\\nParabéns por escolher adotar! Você está prestes a mudar uma vida para melhor. Estou muito feliz com a sua escolha!\")\n",
        "  print('--------------------------------------------')\n",
        "  print(\"Entre em contato com o abrigo mais próximo de você para prosseguir com o processo de adoção.\")\n",
        "  print(\"Obrigado por usar o Happy Pet!\")\n",
        "  print('--------------------------------------------')\n",
        "\n",
        "if __name__ == \"__main__\":\n",
        "  boas_vindas()\n",
        "  especie_preferida = perguntar_preferencia()\n",
        "  pets_filtrados = filtrar_pets(especie_preferida)\n",
        "  apresentar_pets(pets_filtrados)\n",
        "\n",
        "  if pets_filtrados:\n",
        "    pet_escolhido = escolher_pet(pets_filtrados)\n",
        "    print(f\"\\nVocê escolheu o(a) {pet_escolhido.nome}! Uma ótima escolha!\")\n",
        "    finalizar()"
      ],
      "metadata": {
        "colab": {
          "base_uri": "https://localhost:8080/"
        },
        "id": "A8azXzm20n9_",
        "outputId": "dc4cc499-215e-419a-b023-a48e09c8917d"
      },
      "execution_count": 10,
      "outputs": [
        {
          "output_type": "stream",
          "name": "stdout",
          "text": [
            "Olá! Bem-vindo(a) ao Happy Pet!\n",
            "Eu sou o Botty e estou aqui para te ajudar a encontrar o amigo perfeito para você.\n",
            "Você deseja adotar um cachorro, um gato ou uma calopsita? cachorro\n",
            "\n",
            "Aqui estão os pets disponíveis que correspondem à sua preferência:\n",
            "1. Margarida, um(a) Cachorro de 2 anos, raça SRD, com personalidade Brincalhona, super carinhosa e esperta.\n",
            "2. Joca, um(a) Cachorro de 4 anos, raça SRD, com personalidade Alegre, dócil e companheiro.\n",
            "3. Bob, um(a) Cachorro de 3 anos, raça Pastor Alemão, com personalidade Cheio de energia e muito amigo.\n",
            "\n",
            "Digite o número do pet que você gostaria de saber mais: 2\n",
            "\n",
            "Você escolheu o(a) Joca! Uma ótima escolha!\n",
            "\n",
            "Parabéns por escolher adotar! Você está prestes a mudar uma vida para melhor. Estou muito feliz com a sua escolha!\n",
            "--------------------------------------------\n",
            "Entre em contato com o abrigo mais próximo de você para prosseguir com o processo de adoção.\n",
            "Obrigado por usar o Happy Pet!\n",
            "--------------------------------------------\n"
          ]
        }
      ]
    }
  ]
}